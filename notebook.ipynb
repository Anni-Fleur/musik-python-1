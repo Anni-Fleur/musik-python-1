{
 "cells": [
  {
   "cell_type": "markdown",
   "metadata": {},
   "source": [
    "Das ist eine Codezelle in einem Jupyter-Notebook. Codezellen können unterschiedliche Cody-Typen enthalten. Diese Zelle enthält Markdown, eine Auszeichnungssprache für Text.\n",
    "\n",
    "Markdown-Zellen können für ergänzende Notizen und Kommentare genutzt werden."
   ]
  },
  {
   "cell_type": "code",
   "execution_count": 5,
   "metadata": {},
   "outputs": [
    {
     "name": "stdout",
     "output_type": "stream",
     "text": [
      "In einem klassischen Orchester gibt es zahlreiche Instrumente, die in verschiedene Instrumentengruppen eingeteilt sind. Man unterscheidet z. B. Streichinstrumente, Holzblasinstrumente, Blechblasinstrumente, Pauken/Schlagzeug und sonstige Instrumente. Zu den Streichinstrumenten gehören Geigen, Bratschen, Celli und Kontrabässe. Zu den Blechblasinstrumenten gehören Hörner, Trompeten, Posaunen und Tuben. Die Holzblasinstrumente umfassen Flöten, Oboen, Klarinetten und Fagotte.\n"
     ]
    }
   ],
   "source": [
    "# Das ist eine Python-Zelle. Hier kann Python Programmcode geschrieben und ausgeführt werden.\n",
    "# Schreiben Sie hier erstes Programm.\n",
    "print(\"In einem klassischen Orchester gibt es zahlreiche Instrumente, die in verschiedene Instrumentengruppen eingeteilt sind. Man unterscheidet z. B. Streichinstrumente, Holzblasinstrumente, Blechblasinstrumente, Pauken/Schlagzeug und sonstige Instrumente. Zu den Streichinstrumenten gehören Geigen, Bratschen, Celli und Kontrabässe. Zu den Blechblasinstrumenten gehören Hörner, Trompeten, Posaunen und Tuben. Die Holzblasinstrumente umfassen Flöten, Oboen, Klarinetten und Fagotte.\")"
   ]
  },
  {
   "cell_type": "markdown",
   "metadata": {},
   "source": []
  },
  {
   "cell_type": "markdown",
   "metadata": {},
   "source": [
    "# Strukturierte vs. unstrukturierte Daten, Datentypen"
   ]
  },
  {
   "cell_type": "markdown",
   "metadata": {},
   "source": [
    "In einem klassischen Orchester gibt es zahlreiche Instrumente, die in verschiedene Instrumentengruppen eingeteilt sind. Man unterscheidet z. B. Streichinstrumente, Holzblasinstrumente, Blechblasinstrumente, Pauken/Schlagzeug und sonstige Instrumente. Zu den Streichinstrumenten gehören Geigen, Bratschen, Celli und Kontrabässe. Zu den Blechblasinstrumenten gehören Hörner, Trompeten, Posaunen und Tuben. Die Holzblasinstrumente umfassen Flöten, Oboen, Klarinetten und Fagotte."
   ]
  },
  {
   "cell_type": "code",
   "execution_count": 6,
   "metadata": {},
   "outputs": [
    {
     "data": {
      "text/plain": [
       "'In einem klassischen Orchester gibt es zahlreiche Instrumente, die in verschiedene Instrumentengruppen eingeteilt sind. Man unterscheidet z. B. Streichinstrumente, Holzblasinstrumente, Blechblasinstrumente, Pauken/Schlagzeug und sonstige Instrumente. Zu den Streichinstrumenten gehören Geigen, Bratschen, Celli und Kontrabässe. Zu den Blechblasinstrumenten gehören Hörner, Trompeten, Posaunen und Tuben. Die Holzblasinstrumente umfassen Flöten, Oboen, Klarinetten und Fagotte.'"
      ]
     },
     "execution_count": 6,
     "metadata": {},
     "output_type": "execute_result"
    }
   ],
   "source": [
    "\"In einem klassischen Orchester gibt es zahlreiche Instrumente, die in verschiedene Instrumentengruppen eingeteilt sind. Man unterscheidet z. B. Streichinstrumente, Holzblasinstrumente, Blechblasinstrumente, Pauken/Schlagzeug und sonstige Instrumente. Zu den Streichinstrumenten gehören Geigen, Bratschen, Celli und Kontrabässe. Zu den Blechblasinstrumenten gehören Hörner, Trompeten, Posaunen und Tuben. Die Holzblasinstrumente umfassen Flöten, Oboen, Klarinetten und Fagotte.\""
   ]
  },
  {
   "cell_type": "code",
   "execution_count": 21,
   "metadata": {},
   "outputs": [
    {
     "name": "stdout",
     "output_type": "stream",
     "text": [
      "['Geigen', 'Bratschen', 'Celli', 'Kontrabässe']\n",
      "['Flöten', 'Oboen', 'Klarinetten', 'Fagotte']\n",
      "['Hörner', 'Trompeten', 'Posaunen', 'Tuben']\n"
     ]
    }
   ],
   "source": [
    "Streicher=[\"Geigen\", \"Bratschen\", \"Celli\", \"Kontrabässe\"]\n",
    "Holzbläser=[\"Flöten\", \"Oboen\", \"Klarinetten\", \"Fagotte\"]\n",
    "Blechbläser=[\"Hörner\", \"Trompeten\", \"Posaunen\", \"Tuben\"]\n",
    "Instrument=\"Triangel\"\n",
    "print(Streicher)\n",
    "print(Holzbläser)\n",
    "print(Blechbläser)"
   ]
  },
  {
   "cell_type": "code",
   "execution_count": 18,
   "metadata": {},
   "outputs": [
    {
     "ename": "NameError",
     "evalue": "name 'Instrument' is not defined",
     "output_type": "error",
     "traceback": [
      "\u001b[0;31m---------------------------------------------------------------------------\u001b[0m",
      "\u001b[0;31mNameError\u001b[0m                                 Traceback (most recent call last)",
      "Cell \u001b[0;32mIn[18], line 1\u001b[0m\n\u001b[0;32m----> 1\u001b[0m \u001b[38;5;28mlen\u001b[39m(\u001b[43mInstrument\u001b[49m)\n",
      "\u001b[0;31mNameError\u001b[0m: name 'Instrument' is not defined"
     ]
    }
   ],
   "source": [
    "\n",
    "len(Instrument)"
   ]
  },
  {
   "cell_type": "code",
   "execution_count": 20,
   "metadata": {},
   "outputs": [
    {
     "data": {
      "text/plain": [
       "list"
      ]
     },
     "execution_count": 20,
     "metadata": {},
     "output_type": "execute_result"
    }
   ],
   "source": [
    "type(Holzbläser)"
   ]
  },
  {
   "cell_type": "code",
   "execution_count": 23,
   "metadata": {},
   "outputs": [
    {
     "data": {
      "text/plain": [
       "0"
      ]
     },
     "execution_count": 23,
     "metadata": {},
     "output_type": "execute_result"
    }
   ],
   "source": [
    "\n",
    "Streicher.count(\"i\")"
   ]
  },
  {
   "cell_type": "code",
   "execution_count": 24,
   "metadata": {},
   "outputs": [
    {
     "data": {
      "text/plain": [
       "1"
      ]
     },
     "execution_count": 24,
     "metadata": {},
     "output_type": "execute_result"
    }
   ],
   "source": [
    "Streicher.count(\"Geigen\")"
   ]
  },
  {
   "cell_type": "code",
   "execution_count": 25,
   "metadata": {},
   "outputs": [],
   "source": [
    "Streicher.append(\"Gamben\")"
   ]
  },
  {
   "cell_type": "code",
   "execution_count": 33,
   "metadata": {},
   "outputs": [
    {
     "data": {
      "text/plain": [
       "['Geigen', 'Bratschen', 'Celli', 'Kontrabässe', 'Gamben']"
      ]
     },
     "execution_count": 33,
     "metadata": {},
     "output_type": "execute_result"
    }
   ],
   "source": [
    "Streicher"
   ]
  },
  {
   "cell_type": "code",
   "execution_count": 37,
   "metadata": {},
   "outputs": [],
   "source": [
    "Streicher.sort()"
   ]
  },
  {
   "cell_type": "code",
   "execution_count": 35,
   "metadata": {},
   "outputs": [
    {
     "data": {
      "text/plain": [
       "['Bratschen', 'Celli', 'Gamben', 'Geigen', 'Kontrabässe']"
      ]
     },
     "execution_count": 35,
     "metadata": {},
     "output_type": "execute_result"
    }
   ],
   "source": [
    "Streicher"
   ]
  },
  {
   "cell_type": "code",
   "execution_count": 50,
   "metadata": {},
   "outputs": [
    {
     "name": "stdout",
     "output_type": "stream",
     "text": [
      "Celli\n"
     ]
    }
   ],
   "source": [
    "print(Streicher[1])"
   ]
  },
  {
   "cell_type": "code",
   "execution_count": 70,
   "metadata": {},
   "outputs": [
    {
     "name": "stdout",
     "output_type": "stream",
     "text": [
      "0\n",
      "0\n",
      "1\n",
      "2\n",
      "0\n"
     ]
    }
   ],
   "source": [
    "for element in Streicher:\n",
    "    print(element.lower().count(\"g\"))\n"
   ]
  }
 ],
 "metadata": {
  "kernelspec": {
   "display_name": "Python 3",
   "language": "python",
   "name": "python3"
  },
  "language_info": {
   "codemirror_mode": {
    "name": "ipython",
    "version": 3
   },
   "file_extension": ".py",
   "mimetype": "text/x-python",
   "name": "python",
   "nbconvert_exporter": "python",
   "pygments_lexer": "ipython3",
   "version": "3.10.13"
  }
 },
 "nbformat": 4,
 "nbformat_minor": 2
}
