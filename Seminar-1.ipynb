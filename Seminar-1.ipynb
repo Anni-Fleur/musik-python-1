{
 "cells": [
  {
   "cell_type": "markdown",
   "metadata": {},
   "source": [
    "# Strukturierte vs. unstrukturierte Daten, Datentypen"
   ]
  },
  {
   "cell_type": "markdown",
   "metadata": {},
   "source": [
    "In einem klassischen Orchester gibt es zahlreiche Instrumente, die in verschiedene Instrumentengruppen eingeteilt sind. Man unterscheidet z. B. Streichinstrumente, Holzblasinstrumente, Blechblasinstrumente, Pauken/Schlagzeug und sonstige Instrumente. Zu den Streichinstrumenten gehören Geigen, Bratschen, Celli und Kontrabässe. Zu den Blechblasinstrumenten gehören Hörner, Trompeten, Posaunen und Tuben. Die Holzblasinstrumente umfassen Flöten, Oboen, Klarinetten und Fagotte."
   ]
  },
  {
   "cell_type": "markdown",
   "metadata": {},
   "source": [
    "# Datentyp: String"
   ]
  },
  {
   "cell_type": "code",
   "execution_count": 4,
   "metadata": {},
   "outputs": [
    {
     "data": {
      "text/plain": [
       "'In einem klassischen Orchester gibt es zahlreiche Instrumente, die in verschiedene Instrumentengruppen eingeteilt sind. Man unterscheidet z. B. Streichinstrumente, Holzblasinstrumente, Blechblasinstrumente, Pauken/Schlagzeug und sonstige Instrumente. Zu den Streichinstrumenten gehören Geigen, Bratschen, Celli und Kontrabässe. Zu den Blechblasinstrumenten gehören Hörner, Trompeten, Posaunen und Tuben. Die Holzblasinstrumente umfassen Flöten, Oboen, Klarinetten und Fagotte.'"
      ]
     },
     "execution_count": 4,
     "metadata": {},
     "output_type": "execute_result"
    }
   ],
   "source": [
    "\"In einem klassischen Orchester gibt es zahlreiche Instrumente, die in verschiedene Instrumentengruppen eingeteilt sind. Man unterscheidet z. B. Streichinstrumente, Holzblasinstrumente, Blechblasinstrumente, Pauken/Schlagzeug und sonstige Instrumente. Zu den Streichinstrumenten gehören Geigen, Bratschen, Celli und Kontrabässe. Zu den Blechblasinstrumenten gehören Hörner, Trompeten, Posaunen und Tuben. Die Holzblasinstrumente umfassen Flöten, Oboen, Klarinetten und Fagotte.\""
   ]
  },
  {
   "cell_type": "markdown",
   "metadata": {},
   "source": [
    "# Datentyp: Liste"
   ]
  },
  {
   "cell_type": "code",
   "execution_count": 7,
   "metadata": {},
   "outputs": [],
   "source": [
    "streichinstrumente = [\"Geigen\", \"Bratschen\", \"Celli\", \"Kontrabässe\"].\n",
    "blechblasinstrumente = [\"Hörner\", \"Trompeten\", \"Posaunen\", \"Tuben\"]\n",
    "holzblasinstrumente = [\"Flöten\", \"Oboen\", \"Klarinetten\", \"Fagotte\"]\n",
    "orchester = streichinstrumente + blechblasinstrumente + holzblasinstrumente"
   ]
  },
  {
   "cell_type": "code",
   "execution_count": 10,
   "metadata": {},
   "outputs": [
    {
     "data": {
      "text/plain": [
       "['Geigen',\n",
       " 'Bratschen',\n",
       " 'Celli',\n",
       " 'Kontrabässe',\n",
       " 'Hörner',\n",
       " 'Trompeten',\n",
       " 'Posaunen',\n",
       " 'Tuben',\n",
       " 'Flöten',\n",
       " 'Oboen',\n",
       " 'Klarinetten',\n",
       " 'Fagotte']"
      ]
     },
     "execution_count": 10,
     "metadata": {},
     "output_type": "execute_result"
    }
   ],
   "source": [
    "orchester"
   ]
  },
  {
   "cell_type": "code",
   "execution_count": 11,
   "metadata": {},
   "outputs": [
    {
     "data": {
      "text/plain": [
       "12"
      ]
     },
     "execution_count": 11,
     "metadata": {},
     "output_type": "execute_result"
    }
   ],
   "source": [
    "len(orchester)"
   ]
  },
  {
   "cell_type": "markdown",
   "metadata": {},
   "source": [
    "# Slicing"
   ]
  }
 ],
 "metadata": {
  "kernelspec": {
   "display_name": "musikverlage",
   "language": "python",
   "name": "python3"
  },
  "language_info": {
   "codemirror_mode": {
    "name": "ipython",
    "version": 3
   },
   "file_extension": ".py",
   "mimetype": "text/x-python",
   "name": "python",
   "nbconvert_exporter": "python",
   "pygments_lexer": "ipython3",
   "version": "3.11.2"
  },
  "orig_nbformat": 4
 },
 "nbformat": 4,
 "nbformat_minor": 2
}
